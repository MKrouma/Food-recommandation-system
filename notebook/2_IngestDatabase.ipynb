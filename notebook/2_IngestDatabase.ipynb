{
 "cells": [
  {
   "cell_type": "markdown",
   "metadata": {},
   "source": [
    "# Data Ingestion\n",
    "Process : \n",
    "- init sqlalchemy database\n",
    "- create pythonic table\n",
    "- add records in table\n",
    "- push in AWS RDS (later)"
   ]
  },
  {
   "cell_type": "code",
   "execution_count": 7,
   "metadata": {},
   "outputs": [],
   "source": [
    "# import \n",
    "import os\n",
    "from datetime import datetime\n",
    "from module.config import PROJ_DIR\n",
    "from sqlalchemy import create_engine\n",
    "from sqlalchemy import Column, Integer, String, DateTime\n",
    "from sqlalchemy.orm import declarative_base, sessionmaker"
   ]
  },
  {
   "cell_type": "code",
   "execution_count": null,
   "metadata": {},
   "outputs": [],
   "source": [
    "connection_string = \"sqlite:///\" + os.path.join(PROJ_DIR, 'data/db/foodapp.db')\n",
    "\n",
    "Base = declarative_base()\n",
    "engine = create_engine(connection_string, echo=True, future=True)\n",
    "Session = sessionmaker()\n",
    "\n",
    "\n",
    "\"\"\"\n",
    "class User\n",
    "    id int\n",
    "    username str\n",
    "    email str\n",
    "    date_created datetime\n",
    "\"\"\"\n",
    "\n",
    "class User(Base) :\n",
    "    __tablename__ = \"users\"\n",
    "    id = Column(Integer(), primary_key=True)\n",
    "    username = Column(String(25), nullable=False, unique=True)\n",
    "    email = Column(String(100), nullable=False, unique=True)\n",
    "    date_created = Column(DateTime(), default=datetime.utcnow)\n",
    "\n",
    "\n",
    "    def __repr__(self) -> str:\n",
    "        repr = f\"<User username={self.username} email={self.email}>\"\n",
    "        return repr"
   ]
  }
 ],
 "metadata": {
  "interpreter": {
   "hash": "68c9d5af02a13f2b4d1e24f29da0926da682dbc9ce8e020708b4389f1d52a3cf"
  },
  "kernelspec": {
   "display_name": "Python 3.8.3 64-bit ('auth': venv)",
   "language": "python",
   "name": "python3"
  },
  "language_info": {
   "codemirror_mode": {
    "name": "ipython",
    "version": 3
   },
   "file_extension": ".py",
   "mimetype": "text/x-python",
   "name": "python",
   "nbconvert_exporter": "python",
   "pygments_lexer": "ipython3",
   "version": "3.8.3"
  },
  "orig_nbformat": 4
 },
 "nbformat": 4,
 "nbformat_minor": 2
}
