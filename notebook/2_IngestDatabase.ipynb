{
 "cells": [
  {
   "cell_type": "markdown",
   "metadata": {},
   "source": [
    "# Data Ingestion\n",
    "Process : \n",
    "- init sqlalchemy database\n",
    "- create pythonic table\n",
    "- add records in table\n",
    "- push in AWS RDS (later)"
   ]
  },
  {
   "cell_type": "code",
   "execution_count": 9,
   "metadata": {},
   "outputs": [],
   "source": [
    "# import \n",
    "import os\n",
    "import pandas as pd\n",
    "from datetime import datetime\n",
    "from module.config import PROJ_DIR\n",
    "from sqlalchemy import create_engine\n",
    "from sqlalchemy import Column, Integer, String, DateTime, Float\n",
    "from sqlalchemy.orm import declarative_base, sessionmaker\n",
    "from IPython.display import display"
   ]
  },
  {
   "cell_type": "code",
   "execution_count": 10,
   "metadata": {},
   "outputs": [
    {
     "data": {
      "text/plain": [
       "Index(['userID', 'birth_year', 'personality', 'interest', 'religion',\n",
       "       'marital_status', 'activity', 'ambience', 'smoker', 'drink_level',\n",
       "       'hijos', 'color', 'weight', 'height'],\n",
       "      dtype='object')"
      ]
     },
     "metadata": {},
     "output_type": "display_data"
    },
    {
     "data": {
      "text/plain": [
       "Index(['placeID', 'name', 'address', 'latitude', 'longitude', 'city', 'state',\n",
       "       'country', 'fax', 'zip', 'the_geom_meter', 'hours', 'days', 'Rpayment',\n",
       "       'Rcuisine', 'parking_lot', 'alcohol', 'smoking_area', 'dress_code',\n",
       "       'accessibility', 'price', 'Rambience', 'franchise', 'area',\n",
       "       'other_services', 'url'],\n",
       "      dtype='object')"
      ]
     },
     "metadata": {},
     "output_type": "display_data"
    }
   ],
   "source": [
    "# dataset\n",
    "profile_df = pd.read_csv(os.path.join(PROJ_DIR, \"data/temp/clean/user_profile.csv\"), index_col=[0])\n",
    "restaurant_df = pd.read_csv(os.path.join(PROJ_DIR, \"data/temp/clean/restaurant.csv\"), index_col=[0])\n",
    "\n",
    "display(profile_df.columns)\n",
    "display(restaurant_df.columns)"
   ]
  },
  {
   "cell_type": "code",
   "execution_count": 20,
   "metadata": {},
   "outputs": [
    {
     "name": "stdout",
     "output_type": "stream",
     "text": [
      "<User ID=1 color=None>\n"
     ]
    },
    {
     "data": {
      "text/plain": [
       "'\\nclass Place\\n    id int\\n    username str\\n    email str\\n    date_created datetime\\n'"
      ]
     },
     "execution_count": 20,
     "metadata": {},
     "output_type": "execute_result"
    }
   ],
   "source": [
    "connection_string = \"sqlite:///\" + os.path.join(PROJ_DIR, 'data/db/foodapp.db')\n",
    "\n",
    "Base = declarative_base()\n",
    "engine = create_engine(connection_string, echo=True, future=True)\n",
    "Session = sessionmaker()\n",
    "\n",
    "\n",
    "\"\"\"\n",
    "class User\n",
    "    userID int\n",
    "    birth_year int\n",
    "    personality str\n",
    "    interest str\n",
    "    religion str\n",
    "    marital_status str\n",
    "    activity str\n",
    "    ambience str\n",
    "    smoker str\n",
    "    drink_level str\n",
    "    hijos str\n",
    "    color str\n",
    "    weight float\n",
    "    height float\n",
    "\"\"\"\n",
    "\n",
    "class User(Base) :\n",
    "    __tablename__ = \"users\"\n",
    "    userID = Column(Integer(), primary_key=True)\n",
    "    # email = Column(String(100), unique=True)\n",
    "    # password = Column(String(100))\n",
    "    # username = Column(String(1000))\n",
    "\n",
    "    birth_year = Column(Integer())\n",
    "    personality = Column(String(100))\n",
    "    interest = Column(String(100))\n",
    "    religion = Column(String(100))\n",
    "    marital_status = Column(String(100))\n",
    "    activity = Column(String(100))\n",
    "    ambience = Column(String(100))\n",
    "    smoker = Column(String(100))\n",
    "    drink_level = Column(String(100))\n",
    "    hijos = Column(String(100))\n",
    "    color = Column(String(100))\n",
    "    weight = Column(Float())\n",
    "    height = Column(Float())\n",
    "\n",
    "\n",
    "    def __repr__(self) -> str:\n",
    "        repr = f\"<User ID={self.userID} color={self.color}>\"\n",
    "        return repr\n",
    "\n",
    "mae = User(userID=1, weight=0.21)\n",
    "print(mae)\n",
    "\n",
    "\"\"\"\n",
    "class Place\n",
    "    id int\n",
    "    name str\n",
    "    address str\n",
    "    latitude float\n",
    "    longitude float\n",
    "    city str\n",
    "    state str\n",
    "    country str\n",
    "    fax int\n",
    "    zip str\n",
    "    the_geom_meter str\n",
    "    hours str\n",
    "    days str\n",
    "    Rpayment str\n",
    "    Rcuisine str\n",
    "    parking_lot str\n",
    "    alcohol str\n",
    "    smoking_area str\n",
    "\n",
    "'placeID', 'name', 'address', 'latitude', 'longitude', 'city', 'state',\n",
    "       'country', 'fax', 'zip', 'the_geom_meter', 'hours', 'days', 'Rpayment',\n",
    "       'Rcuisine', 'parking_lot', 'alcohol', 'smoking_area', 'dress_code',\n",
    "       'accessibility', 'price', 'Rambience', 'franchise', 'area',\n",
    "       'other_services', 'url'\n",
    "\"\"\"\n",
    "\n",
    "class User(Base) :\n",
    "    __tablename__ = \"places\"\n",
    "    placeID = Column(Integer(), primary_key=True)\n",
    "    # email = Column(String(100), unique=True)\n",
    "    # password = Column(String(100))\n",
    "    # username = Column(String(1000))"
   ]
  },
  {
   "cell_type": "code",
   "execution_count": null,
   "metadata": {},
   "outputs": [],
   "source": []
  }
 ],
 "metadata": {
  "interpreter": {
   "hash": "68c9d5af02a13f2b4d1e24f29da0926da682dbc9ce8e020708b4389f1d52a3cf"
  },
  "kernelspec": {
   "display_name": "Python 3.8.3 64-bit ('auth': venv)",
   "language": "python",
   "name": "python3"
  },
  "language_info": {
   "codemirror_mode": {
    "name": "ipython",
    "version": 3
   },
   "file_extension": ".py",
   "mimetype": "text/x-python",
   "name": "python",
   "nbconvert_exporter": "python",
   "pygments_lexer": "ipython3",
   "version": "3.8.3"
  },
  "orig_nbformat": 4
 },
 "nbformat": 4,
 "nbformat_minor": 2
}
