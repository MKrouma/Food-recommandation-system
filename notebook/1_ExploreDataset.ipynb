{
 "cells": [
  {
   "cell_type": "markdown",
   "metadata": {},
   "source": [
    "# Explore Dataset"
   ]
  },
  {
   "cell_type": "code",
   "execution_count": 24,
   "metadata": {},
   "outputs": [],
   "source": [
    "# import\n",
    "import os\n",
    "import pandas as pd\n",
    "from functools import reduce\n",
    "from module.config import PROJ_DIR\n",
    "from IPython.display import display"
   ]
  },
  {
   "cell_type": "code",
   "execution_count": 3,
   "metadata": {},
   "outputs": [],
   "source": [
    "# utils functions"
   ]
  },
  {
   "cell_type": "markdown",
   "metadata": {},
   "source": [
    "## Data exploration"
   ]
  },
  {
   "cell_type": "markdown",
   "metadata": {},
   "source": [
    "## Data mining\n",
    "The goal is to reorganize our dataset. We analyse an element in dataset according to permanent or non permanent.\n",
    "\n",
    "For example latitude, longitude of user will go to criterai until users can ask for many recommandations at different places. But restaurant address is fixed and will go directly to theirs. \n",
    "\n",
    "- **User**\n",
    "- **Criteria**\n",
    "- **Restaurant**"
   ]
  },
  {
   "cell_type": "markdown",
   "metadata": {},
   "source": [
    "### Users"
   ]
  },
  {
   "cell_type": "code",
   "execution_count": 13,
   "metadata": {},
   "outputs": [
    {
     "data": {
      "text/plain": [
       "Index(['userID', 'latitude', 'longitude', 'smoker', 'drink_level',\n",
       "       'dress_preference', 'ambience', 'transport', 'marital_status', 'hijos',\n",
       "       'birth_year', 'interest', 'personality', 'religion', 'activity',\n",
       "       'color', 'weight', 'budget', 'height'],\n",
       "      dtype='object')"
      ]
     },
     "metadata": {},
     "output_type": "display_data"
    },
    {
     "data": {
      "text/plain": [
       "Index(['userID', 'Upayment'], dtype='object')"
      ]
     },
     "metadata": {},
     "output_type": "display_data"
    },
    {
     "data": {
      "text/plain": [
       "Index(['userID', 'Rcuisine'], dtype='object')"
      ]
     },
     "metadata": {},
     "output_type": "display_data"
    }
   ],
   "source": [
    "# user cuisine\n",
    "user_cuisine_file = os.path.join(PROJ_DIR, \"data/temp/users/usercuisine.csv\")\n",
    "user_cuisine_df = pd.read_csv(user_cuisine_file)\n",
    "\n",
    "# user payment\n",
    "user_payment_file = os.path.join(PROJ_DIR, \"data/temp/users/userpayment.csv\")\n",
    "user_payment_df = pd.read_csv(user_payment_file)\n",
    "\n",
    "# user profile\n",
    "user_profile_file = os.path.join(PROJ_DIR, \"data/temp/users/userprofile.csv\")\n",
    "user_profile_df = pd.read_csv(user_profile_file)\n",
    "\n",
    "# merge user_df\n",
    "user_df = user_profile_df.merge(user_payment_df, on='userID')\n",
    "user_df = user_df.merge(user_cuisine_df, on='userID')\n",
    "\n",
    "display(user_profile_df.columns)\n",
    "display(user_payment_df.columns)\n",
    "display(user_cuisine_df.columns)"
   ]
  },
  {
   "cell_type": "code",
   "execution_count": 14,
   "metadata": {},
   "outputs": [
    {
     "data": {
      "text/html": [
       "<div>\n",
       "<style scoped>\n",
       "    .dataframe tbody tr th:only-of-type {\n",
       "        vertical-align: middle;\n",
       "    }\n",
       "\n",
       "    .dataframe tbody tr th {\n",
       "        vertical-align: top;\n",
       "    }\n",
       "\n",
       "    .dataframe thead th {\n",
       "        text-align: right;\n",
       "    }\n",
       "</style>\n",
       "<table border=\"1\" class=\"dataframe\">\n",
       "  <thead>\n",
       "    <tr style=\"text-align: right;\">\n",
       "      <th></th>\n",
       "      <th>userID</th>\n",
       "      <th>latitude</th>\n",
       "      <th>longitude</th>\n",
       "      <th>smoker</th>\n",
       "      <th>drink_level</th>\n",
       "      <th>dress_preference</th>\n",
       "      <th>ambience</th>\n",
       "      <th>transport</th>\n",
       "      <th>marital_status</th>\n",
       "      <th>hijos</th>\n",
       "      <th>...</th>\n",
       "      <th>interest</th>\n",
       "      <th>personality</th>\n",
       "      <th>religion</th>\n",
       "      <th>activity</th>\n",
       "      <th>color</th>\n",
       "      <th>weight</th>\n",
       "      <th>budget</th>\n",
       "      <th>height</th>\n",
       "      <th>Upayment</th>\n",
       "      <th>Rcuisine</th>\n",
       "    </tr>\n",
       "  </thead>\n",
       "  <tbody>\n",
       "    <tr>\n",
       "      <th>271</th>\n",
       "      <td>U1108</td>\n",
       "      <td>22.143524</td>\n",
       "      <td>-100.987562</td>\n",
       "      <td>false</td>\n",
       "      <td>abstemious</td>\n",
       "      <td>informal</td>\n",
       "      <td>solitary</td>\n",
       "      <td>public</td>\n",
       "      <td>single</td>\n",
       "      <td>independent</td>\n",
       "      <td>...</td>\n",
       "      <td>technology</td>\n",
       "      <td>thrifty-protector</td>\n",
       "      <td>Catholic</td>\n",
       "      <td>student</td>\n",
       "      <td>blue</td>\n",
       "      <td>76</td>\n",
       "      <td>medium</td>\n",
       "      <td>1.81</td>\n",
       "      <td>MasterCard-Eurocard</td>\n",
       "      <td>Seafood</td>\n",
       "    </tr>\n",
       "    <tr>\n",
       "      <th>347</th>\n",
       "      <td>U1135</td>\n",
       "      <td>22.170396</td>\n",
       "      <td>-100.949936</td>\n",
       "      <td>false</td>\n",
       "      <td>casual drinker</td>\n",
       "      <td>informal</td>\n",
       "      <td>family</td>\n",
       "      <td>on foot</td>\n",
       "      <td>single</td>\n",
       "      <td>kids</td>\n",
       "      <td>...</td>\n",
       "      <td>variety</td>\n",
       "      <td>hunter-ostentatious</td>\n",
       "      <td>Catholic</td>\n",
       "      <td>student</td>\n",
       "      <td>purple</td>\n",
       "      <td>66</td>\n",
       "      <td>low</td>\n",
       "      <td>1.54</td>\n",
       "      <td>cash</td>\n",
       "      <td>International</td>\n",
       "    </tr>\n",
       "  </tbody>\n",
       "</table>\n",
       "<p>2 rows × 21 columns</p>\n",
       "</div>"
      ],
      "text/plain": [
       "    userID   latitude   longitude smoker     drink_level dress_preference  \\\n",
       "271  U1108  22.143524 -100.987562  false      abstemious         informal   \n",
       "347  U1135  22.170396 -100.949936  false  casual drinker         informal   \n",
       "\n",
       "     ambience transport marital_status        hijos  ...    interest  \\\n",
       "271  solitary    public         single  independent  ...  technology   \n",
       "347    family   on foot         single         kids  ...     variety   \n",
       "\n",
       "             personality  religion activity   color weight  budget height  \\\n",
       "271    thrifty-protector  Catholic  student    blue     76  medium   1.81   \n",
       "347  hunter-ostentatious  Catholic  student  purple     66     low   1.54   \n",
       "\n",
       "                Upayment       Rcuisine  \n",
       "271  MasterCard-Eurocard        Seafood  \n",
       "347                 cash  International  \n",
       "\n",
       "[2 rows x 21 columns]"
      ]
     },
     "metadata": {},
     "output_type": "display_data"
    }
   ],
   "source": [
    "display(user_df.sample(2))"
   ]
  },
  {
   "cell_type": "code",
   "execution_count": 22,
   "metadata": {},
   "outputs": [],
   "source": [
    "# define cols\n",
    "profile_cols = ['userID', 'birth_year', 'personality', 'interest', 'religion', \n",
    "                'marital_status', 'activity', 'ambience', \n",
    "                'smoker', 'drink_level', 'hijos',\n",
    "                'color', 'weight', 'height'    \n",
    "]\n",
    "\n",
    "criteria_cols = ['userID', 'latitude', 'longitude', 'Upayment', 'Rcuisine',\n",
    "                'budget', 'dress_preference', 'transport'\n",
    "]"
   ]
  },
  {
   "cell_type": "code",
   "execution_count": 23,
   "metadata": {},
   "outputs": [
    {
     "data": {
      "text/html": [
       "<div>\n",
       "<style scoped>\n",
       "    .dataframe tbody tr th:only-of-type {\n",
       "        vertical-align: middle;\n",
       "    }\n",
       "\n",
       "    .dataframe tbody tr th {\n",
       "        vertical-align: top;\n",
       "    }\n",
       "\n",
       "    .dataframe thead th {\n",
       "        text-align: right;\n",
       "    }\n",
       "</style>\n",
       "<table border=\"1\" class=\"dataframe\">\n",
       "  <thead>\n",
       "    <tr style=\"text-align: right;\">\n",
       "      <th></th>\n",
       "      <th>userID</th>\n",
       "      <th>birth_year</th>\n",
       "      <th>personality</th>\n",
       "      <th>interest</th>\n",
       "      <th>religion</th>\n",
       "      <th>marital_status</th>\n",
       "      <th>activity</th>\n",
       "      <th>ambience</th>\n",
       "      <th>smoker</th>\n",
       "      <th>drink_level</th>\n",
       "      <th>hijos</th>\n",
       "      <th>color</th>\n",
       "      <th>weight</th>\n",
       "      <th>height</th>\n",
       "    </tr>\n",
       "  </thead>\n",
       "  <tbody>\n",
       "    <tr>\n",
       "      <th>25</th>\n",
       "      <td>U1008</td>\n",
       "      <td>1989</td>\n",
       "      <td>hard-worker</td>\n",
       "      <td>technology</td>\n",
       "      <td>Catholic</td>\n",
       "      <td>single</td>\n",
       "      <td>student</td>\n",
       "      <td>solitary</td>\n",
       "      <td>false</td>\n",
       "      <td>social drinker</td>\n",
       "      <td>independent</td>\n",
       "      <td>green</td>\n",
       "      <td>68</td>\n",
       "      <td>1.72</td>\n",
       "    </tr>\n",
       "    <tr>\n",
       "      <th>397</th>\n",
       "      <td>U1135</td>\n",
       "      <td>1988</td>\n",
       "      <td>hunter-ostentatious</td>\n",
       "      <td>variety</td>\n",
       "      <td>Catholic</td>\n",
       "      <td>single</td>\n",
       "      <td>student</td>\n",
       "      <td>family</td>\n",
       "      <td>false</td>\n",
       "      <td>casual drinker</td>\n",
       "      <td>kids</td>\n",
       "      <td>purple</td>\n",
       "      <td>66</td>\n",
       "      <td>1.54</td>\n",
       "    </tr>\n",
       "  </tbody>\n",
       "</table>\n",
       "</div>"
      ],
      "text/plain": [
       "    userID  birth_year          personality    interest  religion  \\\n",
       "25   U1008        1989          hard-worker  technology  Catholic   \n",
       "397  U1135        1988  hunter-ostentatious     variety  Catholic   \n",
       "\n",
       "    marital_status activity  ambience smoker     drink_level        hijos  \\\n",
       "25          single  student  solitary  false  social drinker  independent   \n",
       "397         single  student    family  false  casual drinker         kids   \n",
       "\n",
       "      color  weight  height  \n",
       "25    green      68    1.72  \n",
       "397  purple      66    1.54  "
      ]
     },
     "metadata": {},
     "output_type": "display_data"
    },
    {
     "data": {
      "text/html": [
       "<div>\n",
       "<style scoped>\n",
       "    .dataframe tbody tr th:only-of-type {\n",
       "        vertical-align: middle;\n",
       "    }\n",
       "\n",
       "    .dataframe tbody tr th {\n",
       "        vertical-align: top;\n",
       "    }\n",
       "\n",
       "    .dataframe thead th {\n",
       "        text-align: right;\n",
       "    }\n",
       "</style>\n",
       "<table border=\"1\" class=\"dataframe\">\n",
       "  <thead>\n",
       "    <tr style=\"text-align: right;\">\n",
       "      <th></th>\n",
       "      <th>userID</th>\n",
       "      <th>latitude</th>\n",
       "      <th>longitude</th>\n",
       "      <th>Upayment</th>\n",
       "      <th>Rcuisine</th>\n",
       "      <th>budget</th>\n",
       "      <th>dress_preference</th>\n",
       "      <th>transport</th>\n",
       "    </tr>\n",
       "  </thead>\n",
       "  <tbody>\n",
       "    <tr>\n",
       "      <th>371</th>\n",
       "      <td>U1135</td>\n",
       "      <td>22.170396</td>\n",
       "      <td>-100.949936</td>\n",
       "      <td>cash</td>\n",
       "      <td>Armenian</td>\n",
       "      <td>low</td>\n",
       "      <td>informal</td>\n",
       "      <td>on foot</td>\n",
       "    </tr>\n",
       "    <tr>\n",
       "      <th>284</th>\n",
       "      <td>U1117</td>\n",
       "      <td>18.875641</td>\n",
       "      <td>-99.220737</td>\n",
       "      <td>cash</td>\n",
       "      <td>Turkish</td>\n",
       "      <td>medium</td>\n",
       "      <td>no preference</td>\n",
       "      <td>public</td>\n",
       "    </tr>\n",
       "  </tbody>\n",
       "</table>\n",
       "</div>"
      ],
      "text/plain": [
       "    userID   latitude   longitude Upayment  Rcuisine  budget dress_preference  \\\n",
       "371  U1135  22.170396 -100.949936     cash  Armenian     low         informal   \n",
       "284  U1117  18.875641  -99.220737     cash   Turkish  medium    no preference   \n",
       "\n",
       "    transport  \n",
       "371   on foot  \n",
       "284    public  "
      ]
     },
     "metadata": {},
     "output_type": "display_data"
    }
   ],
   "source": [
    "# dataframe\n",
    "profile_df = user_df[profile_cols].copy()\n",
    "criteria_df = user_df[criteria_cols].copy()\n",
    "\n",
    "display(profile_df.sample(2))\n",
    "display(criteria_df.sample(2))"
   ]
  },
  {
   "cell_type": "markdown",
   "metadata": {},
   "source": [
    "### Restaurants"
   ]
  },
  {
   "cell_type": "code",
   "execution_count": 30,
   "metadata": {},
   "outputs": [
    {
     "data": {
      "text/plain": [
       "Index(['placeID', 'Rpayment', 'Rcuisine', 'hours', 'days', 'parking_lot',\n",
       "       'latitude', 'longitude', 'the_geom_meter', 'name', 'address', 'city',\n",
       "       'state', 'country', 'fax', 'zip', 'alcohol', 'smoking_area',\n",
       "       'dress_code', 'accessibility', 'price', 'url', 'Rambience', 'franchise',\n",
       "       'area', 'other_services'],\n",
       "      dtype='object')"
      ]
     },
     "metadata": {},
     "output_type": "display_data"
    }
   ],
   "source": [
    "# restaurant accepts\n",
    "resto_accepts_file = os.path.join(PROJ_DIR, \"data/temp/restaurants/chefmozaccepts.csv\")\n",
    "resto_accepts_df = pd.read_csv(resto_accepts_file)\n",
    "\n",
    "# restaurant cuisine\n",
    "resto_cuisine_file = os.path.join(PROJ_DIR, \"data/temp/restaurants/chefmozcuisine.csv\")\n",
    "resto_cuisine_df = pd.read_csv(resto_cuisine_file)\n",
    "\n",
    "# restaurant hours\n",
    "resto_hours_file = os.path.join(PROJ_DIR, \"data/temp/restaurants/chefmozhours4.csv\")\n",
    "resto_hours_df = pd.read_csv(resto_hours_file)\n",
    "\n",
    "# restaurant parking\n",
    "resto_parking_file = os.path.join(PROJ_DIR, \"data/temp/restaurants/chefmozparking.csv\")\n",
    "resto_parking_df = pd.read_csv(resto_parking_file)\n",
    "\n",
    "# restaurant geoplace\n",
    "resto_geoplace_file = os.path.join(PROJ_DIR, \"data/temp/restaurants/geoplaces2.csv\")\n",
    "resto_geoplace_df = pd.read_csv(resto_geoplace_file , encoding='latin-1')\n",
    "\n",
    "# merge resto_df\n",
    "dfs = [resto_accepts_df, resto_cuisine_df, resto_hours_df, \n",
    "        resto_parking_df, resto_geoplace_df]\n",
    "resto_df = reduce(lambda left,right: pd.merge(left,right,on='placeID'), dfs)\n",
    "\n",
    "display(resto_df.columns)"
   ]
  },
  {
   "cell_type": "code",
   "execution_count": 31,
   "metadata": {},
   "outputs": [],
   "source": [
    "# order columns\n",
    "resto_cols = ['placeID', 'name', 'address', 'latitude', 'longitude', \n",
    "            'city', 'state', 'country', 'fax', 'zip', 'the_geom_meter', \n",
    "            'hours', 'days', 'Rpayment', 'Rcuisine', 'parking_lot',\n",
    "            'alcohol', 'smoking_area', 'dress_code', 'accessibility', \n",
    "            'price','Rambience', 'franchise','area', 'other_services', \n",
    "            'url'\n",
    "]"
   ]
  },
  {
   "cell_type": "code",
   "execution_count": 34,
   "metadata": {},
   "outputs": [
    {
     "data": {
      "text/html": [
       "<div>\n",
       "<style scoped>\n",
       "    .dataframe tbody tr th:only-of-type {\n",
       "        vertical-align: middle;\n",
       "    }\n",
       "\n",
       "    .dataframe tbody tr th {\n",
       "        vertical-align: top;\n",
       "    }\n",
       "\n",
       "    .dataframe thead th {\n",
       "        text-align: right;\n",
       "    }\n",
       "</style>\n",
       "<table border=\"1\" class=\"dataframe\">\n",
       "  <thead>\n",
       "    <tr style=\"text-align: right;\">\n",
       "      <th></th>\n",
       "      <th>placeID</th>\n",
       "      <th>name</th>\n",
       "      <th>address</th>\n",
       "      <th>latitude</th>\n",
       "      <th>longitude</th>\n",
       "      <th>city</th>\n",
       "      <th>state</th>\n",
       "      <th>country</th>\n",
       "      <th>fax</th>\n",
       "      <th>zip</th>\n",
       "      <th>...</th>\n",
       "      <th>alcohol</th>\n",
       "      <th>smoking_area</th>\n",
       "      <th>dress_code</th>\n",
       "      <th>accessibility</th>\n",
       "      <th>price</th>\n",
       "      <th>Rambience</th>\n",
       "      <th>franchise</th>\n",
       "      <th>area</th>\n",
       "      <th>other_services</th>\n",
       "      <th>url</th>\n",
       "    </tr>\n",
       "  </thead>\n",
       "  <tbody>\n",
       "    <tr>\n",
       "      <th>595</th>\n",
       "      <td>132732</td>\n",
       "      <td>Taqueria EL amigo</td>\n",
       "      <td>Calle Mezquite Fracc Framboyanes</td>\n",
       "      <td>23.754357</td>\n",
       "      <td>-99.171288</td>\n",
       "      <td>Cd Victoria</td>\n",
       "      <td>Tamaulipas</td>\n",
       "      <td>Mexico</td>\n",
       "      <td>?</td>\n",
       "      <td>87018</td>\n",
       "      <td>...</td>\n",
       "      <td>No_Alcohol_Served</td>\n",
       "      <td>none</td>\n",
       "      <td>casual</td>\n",
       "      <td>completely</td>\n",
       "      <td>low</td>\n",
       "      <td>familiar</td>\n",
       "      <td>f</td>\n",
       "      <td>open</td>\n",
       "      <td>none</td>\n",
       "      <td>?</td>\n",
       "    </tr>\n",
       "    <tr>\n",
       "      <th>572</th>\n",
       "      <td>132755</td>\n",
       "      <td>La Estrella de Dimas</td>\n",
       "      <td>Av. de los Pintores</td>\n",
       "      <td>22.153324</td>\n",
       "      <td>-101.019546</td>\n",
       "      <td>San Luis Potosi</td>\n",
       "      <td>S.L.P.</td>\n",
       "      <td>Mexico</td>\n",
       "      <td>?</td>\n",
       "      <td>?</td>\n",
       "      <td>...</td>\n",
       "      <td>No_Alcohol_Served</td>\n",
       "      <td>none</td>\n",
       "      <td>informal</td>\n",
       "      <td>partially</td>\n",
       "      <td>medium</td>\n",
       "      <td>familiar</td>\n",
       "      <td>f</td>\n",
       "      <td>closed</td>\n",
       "      <td>variety</td>\n",
       "      <td>?</td>\n",
       "    </tr>\n",
       "  </tbody>\n",
       "</table>\n",
       "<p>2 rows × 26 columns</p>\n",
       "</div>"
      ],
      "text/plain": [
       "     placeID                  name                           address  \\\n",
       "595   132732    Taqueria EL amigo   Calle Mezquite Fracc Framboyanes   \n",
       "572   132755  La Estrella de Dimas               Av. de los Pintores   \n",
       "\n",
       "      latitude   longitude             city       state country fax    zip  \\\n",
       "595  23.754357  -99.171288      Cd Victoria  Tamaulipas  Mexico   ?  87018   \n",
       "572  22.153324 -101.019546  San Luis Potosi      S.L.P.  Mexico   ?      ?   \n",
       "\n",
       "     ...            alcohol smoking_area dress_code accessibility   price  \\\n",
       "595  ...  No_Alcohol_Served         none     casual    completely     low   \n",
       "572  ...  No_Alcohol_Served         none   informal     partially  medium   \n",
       "\n",
       "    Rambience franchise    area other_services url  \n",
       "595  familiar         f    open           none   ?  \n",
       "572  familiar         f  closed        variety   ?  \n",
       "\n",
       "[2 rows x 26 columns]"
      ]
     },
     "metadata": {},
     "output_type": "display_data"
    }
   ],
   "source": [
    "# dataframe\n",
    "restaurant_df = resto_df[resto_cols].copy()\n",
    "display(restaurant_df.sample(2))"
   ]
  },
  {
   "cell_type": "code",
   "execution_count": null,
   "metadata": {},
   "outputs": [],
   "source": [
    "# profile & restaurant must be unique\n",
    "profile_df.drop_duplicates(subset=['userID'])"
   ]
  },
  {
   "cell_type": "code",
   "execution_count": 35,
   "metadata": {},
   "outputs": [],
   "source": [
    "# export dataset\n",
    "profile_df.to_csv(os.path.join(PROJ_DIR, \"data/temp/clean/user_profile.csv\"))\n",
    "criteria_df.to_csv(os.path.join(PROJ_DIR, \"data/temp/clean/user_criteria.csv\"))\n",
    "restaurant_df.to_csv(os.path.join(PROJ_DIR, \"data/temp/clean/restaurant.csv\"))"
   ]
  }
 ],
 "metadata": {
  "interpreter": {
   "hash": "68c9d5af02a13f2b4d1e24f29da0926da682dbc9ce8e020708b4389f1d52a3cf"
  },
  "kernelspec": {
   "display_name": "Python 3.8.3 64-bit ('auth': venv)",
   "language": "python",
   "name": "python3"
  },
  "language_info": {
   "codemirror_mode": {
    "name": "ipython",
    "version": 3
   },
   "file_extension": ".py",
   "mimetype": "text/x-python",
   "name": "python",
   "nbconvert_exporter": "python",
   "pygments_lexer": "ipython3",
   "version": "3.8.3"
  },
  "orig_nbformat": 4
 },
 "nbformat": 4,
 "nbformat_minor": 2
}
