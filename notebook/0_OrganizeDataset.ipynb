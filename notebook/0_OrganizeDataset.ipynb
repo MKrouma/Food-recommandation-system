{
 "cells": [
  {
   "cell_type": "markdown",
   "metadata": {},
   "source": [
    "# Re-organize dataset"
   ]
  },
  {
   "cell_type": "code",
   "execution_count": 2,
   "metadata": {},
   "outputs": [],
   "source": [
    "# import\n",
    "import os\n",
    "import sys\n",
    "from module.config import PROJ_DIR"
   ]
  },
  {
   "cell_type": "code",
   "execution_count": 3,
   "metadata": {},
   "outputs": [
    {
     "name": "stdout",
     "output_type": "stream",
     "text": [
      "users exists!\n",
      "restaurants exists!\n",
      "ratings exists!\n"
     ]
    }
   ],
   "source": [
    "# func : makeDir()\n",
    "def makekDir(PROJ_DIR, dir_name) :\n",
    "    dir_abs_name = os.path.join(PROJ_DIR, dir_name)\n",
    "\n",
    "    if not os.path.exists(dir_abs_name):\n",
    "        os.mkdir(dir_abs_name)\n",
    "    else : \n",
    "        print(f\"{os.path.basename(dir_abs_name)} exists!\") \n",
    "\n",
    "# dir \n",
    "user_dir = \"data/temp/users\"\n",
    "restaurant_dir = \"data/temp/restaurants\"\n",
    "rating_dir = \"data/temp/ratings\"\n",
    "\n",
    "# mkdir\n",
    "makekDir(PROJ_DIR, user_dir)\n",
    "makekDir(PROJ_DIR, restaurant_dir)\n",
    "makekDir(PROJ_DIR, rating_dir)\n"
   ]
  },
  {
   "cell_type": "code",
   "execution_count": 5,
   "metadata": {},
   "outputs": [
    {
     "name": "stdout",
     "output_type": "stream",
     "text": [
      "usercuisine.csv exists!\n",
      "userpayment.csv exists!\n",
      "userprofile.csv exists!\n",
      "chefmozaccepts.csv exists!\n",
      "chefmozcuisine.csv exists!\n",
      "chefmozhours4.csv exists!\n",
      "chefmozparking.csv exists!\n",
      "geoplaces2.csv exists!\n"
     ]
    }
   ],
   "source": [
    "# func : moveFile()\n",
    "def moveFile(PROJ_DIR, files) :\n",
    "    from_abs_file = os.path.join(PROJ_DIR, files[0])\n",
    "    to_abs_file = os.path.join(PROJ_DIR, files[1])\n",
    "\n",
    "    if not os.path.exists(to_abs_file) :\n",
    "        os.replace(from_abs_file, to_abs_file)\n",
    "    else : \n",
    "        print(f\"{os.path.basename(to_abs_file)} exists!\") \n",
    "\n",
    "# define \n",
    "rating_file = [\n",
    "    (\"data/raw/RCdata/rating_final.csv\", \"data/temp/ratings/rating_final.csv\")\n",
    "]\n",
    "\n",
    "user_files = [\n",
    "    (\"data/raw/RCdata/usercuisine.csv\", \"data/temp/users/usercuisine.csv\"), \n",
    "    (\"data/raw/RCdata/userpayment.csv\", \"data/temp/users/userpayment.csv\"), \n",
    "    (\"data/raw/RCdata/userprofile.csv\", \"data/temp/users/userprofile.csv\")\n",
    "]\n",
    "\n",
    "restaurant_files = [\n",
    "    (\"data/raw/RCdata/chefmozaccepts.csv\", \"data/temp/restaurants/chefmozaccepts.csv\"), \n",
    "    (\"data/raw/RCdata/chefmozcuisine.csv\", \"data/temp/restaurants/chefmozcuisine.csv\"), \n",
    "    (\"data/raw/RCdata/chefmozhours4.csv\", \"data/temp/restaurants/chefmozhours4.csv\"),\n",
    "    (\"data/raw/RCdata/chefmozparking.csv\", \"data/temp/restaurants/chefmozparking.csv\"), \n",
    "    (\"data/raw/RCdata/geoplaces2.csv\", \"data/temp/restaurants/geoplaces2.csv\")\n",
    "]\n",
    "\n",
    "# move (no need for rating : we'll construct it)\n",
    "for file in user_files + restaurant_files + rating_file : \n",
    "    moveFile(PROJ_DIR, file)\n"
   ]
  }
 ],
 "metadata": {
  "interpreter": {
   "hash": "68c9d5af02a13f2b4d1e24f29da0926da682dbc9ce8e020708b4389f1d52a3cf"
  },
  "kernelspec": {
   "display_name": "Python 3.8.3 64-bit ('auth': venv)",
   "language": "python",
   "name": "python3"
  },
  "language_info": {
   "codemirror_mode": {
    "name": "ipython",
    "version": 3
   },
   "file_extension": ".py",
   "mimetype": "text/x-python",
   "name": "python",
   "nbconvert_exporter": "python",
   "pygments_lexer": "ipython3",
   "version": "3.8.3"
  },
  "orig_nbformat": 4
 },
 "nbformat": 4,
 "nbformat_minor": 2
}
